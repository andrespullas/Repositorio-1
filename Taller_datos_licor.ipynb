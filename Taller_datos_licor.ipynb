{
 "cells": [
  {
   "cell_type": "markdown",
   "id": "b52fef65",
   "metadata": {},
   "source": [
    "## Preliminares"
   ]
  },
  {
   "cell_type": "code",
   "execution_count": null,
   "id": "e886073c",
   "metadata": {},
   "outputs": [],
   "source": []
  },
  {
   "cell_type": "code",
   "execution_count": 1,
   "id": "9dc2d181",
   "metadata": {},
   "outputs": [],
   "source": [
    "## Primero importar librerias\n",
    "import pandas as pd\n",
    "import numpy as np\n",
    "import scipy\n",
    "import os "
   ]
  },
  {
   "cell_type": "code",
   "execution_count": 2,
   "id": "36a7477a",
   "metadata": {},
   "outputs": [
    {
     "data": {
      "text/plain": [
       "'D:\\\\NM\\\\CURSOS_DICTADOS\\\\DESARROLLO_EN_CLASE\\\\2022_05_Pr_DS_BasesRPy_entreSem\\\\Scripts'"
      ]
     },
     "execution_count": 2,
     "metadata": {},
     "output_type": "execute_result"
    }
   ],
   "source": [
    "## Segundo: Directorio de trabajo\n",
    "os.getcwd()"
   ]
  },
  {
   "cell_type": "code",
   "execution_count": 3,
   "id": "15d12f33",
   "metadata": {},
   "outputs": [],
   "source": [
    "os.chdir('D:\\\\NM\\\\CURSOS_DICTADOS\\\\DESARROLLO_EN_CLASE\\\\2022_05_Pr_DS_BasesRPy_entreSem')"
   ]
  },
  {
   "cell_type": "code",
   "execution_count": 4,
   "id": "120c7e09",
   "metadata": {},
   "outputs": [
    {
     "data": {
      "text/plain": [
       "'D:\\\\NM\\\\CURSOS_DICTADOS\\\\DESARROLLO_EN_CLASE\\\\2022_05_Pr_DS_BasesRPy_entreSem'"
      ]
     },
     "execution_count": 4,
     "metadata": {},
     "output_type": "execute_result"
    }
   ],
   "source": [
    "os.getcwd()"
   ]
  },
  {
   "cell_type": "markdown",
   "id": "1502afb2",
   "metadata": {},
   "source": [
    "## Analisis"
   ]
  },
  {
   "cell_type": "markdown",
   "id": "a0169f1d",
   "metadata": {},
   "source": [
    "### 3.a Importar datos"
   ]
  },
  {
   "cell_type": "code",
   "execution_count": 5,
   "id": "90ce9418",
   "metadata": {},
   "outputs": [],
   "source": [
    "## Hoja: Data_Transacciones\n",
    "transacciones= pd.read_excel( 'Data/datos_licor.xlsx', sheet_name= 'Data_Transacciones' )"
   ]
  },
  {
   "cell_type": "code",
   "execution_count": 6,
   "id": "4d24868d",
   "metadata": {},
   "outputs": [
    {
     "name": "stdout",
     "output_type": "stream",
     "text": [
      "<class 'pandas.core.frame.DataFrame'>\n",
      "RangeIndex: 100 entries, 0 to 99\n",
      "Data columns (total 9 columns):\n",
      " #   Column          Non-Null Count  Dtype         \n",
      "---  ------          --------------  -----         \n",
      " 0   PRODUCTO        100 non-null    object        \n",
      " 1   LOCAL           100 non-null    object        \n",
      " 2   COD_CLTE        100 non-null    int64         \n",
      " 3   CLIENTE         100 non-null    object        \n",
      " 4   FECHA_FACTURA   100 non-null    datetime64[ns]\n",
      " 5   VENTA_UND       100 non-null    int64         \n",
      " 6   VENTA_USD       100 non-null    object        \n",
      " 7   VENTA_COSTO     100 non-null    float64       \n",
      " 8   CALIF_SERVICIO  100 non-null    object        \n",
      "dtypes: datetime64[ns](1), float64(1), int64(2), object(5)\n",
      "memory usage: 7.2+ KB\n"
     ]
    }
   ],
   "source": [
    "transacciones.info()"
   ]
  },
  {
   "cell_type": "code",
   "execution_count": 7,
   "id": "9c1d2215",
   "metadata": {},
   "outputs": [],
   "source": [
    "## Hoja: Data_Clientes"
   ]
  },
  {
   "cell_type": "code",
   "execution_count": 8,
   "id": "0e9032a4",
   "metadata": {},
   "outputs": [],
   "source": [
    "## Hoja: Data_Locales"
   ]
  },
  {
   "cell_type": "code",
   "execution_count": 9,
   "id": "69a4aeab",
   "metadata": {},
   "outputs": [],
   "source": [
    "## Hoja: Data_ContactoCliente"
   ]
  },
  {
   "cell_type": "markdown",
   "id": "817ae570",
   "metadata": {},
   "source": [
    "### 3.b.1 Eliminar espacios en PRODUCTO [usar método .str.strip()]"
   ]
  },
  {
   "cell_type": "code",
   "execution_count": 10,
   "id": "e8fd1de6",
   "metadata": {},
   "outputs": [
    {
     "data": {
      "text/html": [
       "<div>\n",
       "<style scoped>\n",
       "    .dataframe tbody tr th:only-of-type {\n",
       "        vertical-align: middle;\n",
       "    }\n",
       "\n",
       "    .dataframe tbody tr th {\n",
       "        vertical-align: top;\n",
       "    }\n",
       "\n",
       "    .dataframe thead th {\n",
       "        text-align: right;\n",
       "    }\n",
       "</style>\n",
       "<table border=\"1\" class=\"dataframe\">\n",
       "  <thead>\n",
       "    <tr style=\"text-align: right;\">\n",
       "      <th></th>\n",
       "      <th>PRODUCTO</th>\n",
       "      <th>LOCAL</th>\n",
       "      <th>COD_CLTE</th>\n",
       "      <th>CLIENTE</th>\n",
       "      <th>FECHA_FACTURA</th>\n",
       "      <th>VENTA_UND</th>\n",
       "      <th>VENTA_USD</th>\n",
       "      <th>VENTA_COSTO</th>\n",
       "      <th>CALIF_SERVICIO</th>\n",
       "    </tr>\n",
       "  </thead>\n",
       "  <tbody>\n",
       "    <tr>\n",
       "      <th>0</th>\n",
       "      <td>Cerveza Pilsener light</td>\n",
       "      <td>Samborondón</td>\n",
       "      <td>10027</td>\n",
       "      <td>Marilyn Marlene Arratia Rivas</td>\n",
       "      <td>2017-01-10</td>\n",
       "      <td>1</td>\n",
       "      <td>$ 0,9</td>\n",
       "      <td>0.78</td>\n",
       "      <td>Mala</td>\n",
       "    </tr>\n",
       "    <tr>\n",
       "      <th>1</th>\n",
       "      <td>Cerveza Pilsener</td>\n",
       "      <td>Samborondón</td>\n",
       "      <td>10018</td>\n",
       "      <td>Xavier Rafael Lagos Oliva</td>\n",
       "      <td>2017-01-03</td>\n",
       "      <td>2</td>\n",
       "      <td>$ 1,6</td>\n",
       "      <td>1.40</td>\n",
       "      <td>Mala</td>\n",
       "    </tr>\n",
       "    <tr>\n",
       "      <th>2</th>\n",
       "      <td>Cerveza Pilsener light</td>\n",
       "      <td>Ceibos</td>\n",
       "      <td>10014</td>\n",
       "      <td>Irma del Carmen Gallardo Toledo</td>\n",
       "      <td>2017-01-04</td>\n",
       "      <td>1</td>\n",
       "      <td>$ 0,9</td>\n",
       "      <td>0.78</td>\n",
       "      <td>Regular</td>\n",
       "    </tr>\n",
       "    <tr>\n",
       "      <th>3</th>\n",
       "      <td>Cerveza Pilsener</td>\n",
       "      <td>Ceibos</td>\n",
       "      <td>10007</td>\n",
       "      <td>Honorio David Muñoz Molina</td>\n",
       "      <td>2017-02-10</td>\n",
       "      <td>4</td>\n",
       "      <td>$ 3,2</td>\n",
       "      <td>2.80</td>\n",
       "      <td>Muy Buena</td>\n",
       "    </tr>\n",
       "    <tr>\n",
       "      <th>4</th>\n",
       "      <td>Cerveza Pilsener light</td>\n",
       "      <td>Samborondón</td>\n",
       "      <td>10016</td>\n",
       "      <td>José Aquiles Aguayo Chávez</td>\n",
       "      <td>2017-01-03</td>\n",
       "      <td>6</td>\n",
       "      <td>$ 5,4</td>\n",
       "      <td>4.68</td>\n",
       "      <td>Muy Buena</td>\n",
       "    </tr>\n",
       "    <tr>\n",
       "      <th>...</th>\n",
       "      <td>...</td>\n",
       "      <td>...</td>\n",
       "      <td>...</td>\n",
       "      <td>...</td>\n",
       "      <td>...</td>\n",
       "      <td>...</td>\n",
       "      <td>...</td>\n",
       "      <td>...</td>\n",
       "      <td>...</td>\n",
       "    </tr>\n",
       "    <tr>\n",
       "      <th>95</th>\n",
       "      <td>Heineken</td>\n",
       "      <td>Samborondón</td>\n",
       "      <td>10029</td>\n",
       "      <td>Juan Alberto Lara Rios</td>\n",
       "      <td>2017-02-03</td>\n",
       "      <td>6</td>\n",
       "      <td>$ 7,2</td>\n",
       "      <td>6.00</td>\n",
       "      <td>Regular</td>\n",
       "    </tr>\n",
       "    <tr>\n",
       "      <th>96</th>\n",
       "      <td>Heineken</td>\n",
       "      <td>Ceibos</td>\n",
       "      <td>10005</td>\n",
       "      <td>Mario Enrique Gonzalez contreras</td>\n",
       "      <td>2017-01-03</td>\n",
       "      <td>1</td>\n",
       "      <td>$ 1,2</td>\n",
       "      <td>1.00</td>\n",
       "      <td>Buena</td>\n",
       "    </tr>\n",
       "    <tr>\n",
       "      <th>97</th>\n",
       "      <td>Cerveza Pilsener light</td>\n",
       "      <td>Ceibos</td>\n",
       "      <td>10009</td>\n",
       "      <td>Juan Plinio Hermosilla Contreras</td>\n",
       "      <td>2017-01-03</td>\n",
       "      <td>2</td>\n",
       "      <td>$ 1,8</td>\n",
       "      <td>1.56</td>\n",
       "      <td>Buena</td>\n",
       "    </tr>\n",
       "    <tr>\n",
       "      <th>98</th>\n",
       "      <td>Cerveza Pilsener</td>\n",
       "      <td>Samborondón</td>\n",
       "      <td>10018</td>\n",
       "      <td>Xavier Rafael Lagos Oliva</td>\n",
       "      <td>2017-01-17</td>\n",
       "      <td>2</td>\n",
       "      <td>$ 1,6</td>\n",
       "      <td>1.40</td>\n",
       "      <td>Buena</td>\n",
       "    </tr>\n",
       "    <tr>\n",
       "      <th>99</th>\n",
       "      <td>Cerveza Pilsener</td>\n",
       "      <td>Ceibos</td>\n",
       "      <td>10009</td>\n",
       "      <td>Juan Plinio Hermosilla Contreras</td>\n",
       "      <td>2017-01-15</td>\n",
       "      <td>1</td>\n",
       "      <td>$ 0,8</td>\n",
       "      <td>0.70</td>\n",
       "      <td>Regular</td>\n",
       "    </tr>\n",
       "  </tbody>\n",
       "</table>\n",
       "<p>100 rows × 9 columns</p>\n",
       "</div>"
      ],
      "text/plain": [
       "                                   PRODUCTO        LOCAL  COD_CLTE  \\\n",
       "0    Cerveza Pilsener light                  Samborondón     10027   \n",
       "1   Cerveza Pilsener                         Samborondón     10018   \n",
       "2    Cerveza Pilsener light                       Ceibos     10014   \n",
       "3   Cerveza Pilsener                              Ceibos     10007   \n",
       "4    Cerveza Pilsener light                  Samborondón     10016   \n",
       "..                                      ...          ...       ...   \n",
       "95              Heineken                     Samborondón     10029   \n",
       "96              Heineken                          Ceibos     10005   \n",
       "97   Cerveza Pilsener light                       Ceibos     10009   \n",
       "98  Cerveza Pilsener                         Samborondón     10018   \n",
       "99  Cerveza Pilsener                              Ceibos     10009   \n",
       "\n",
       "                             CLIENTE FECHA_FACTURA  VENTA_UND VENTA_USD  \\\n",
       "0      Marilyn Marlene Arratia Rivas    2017-01-10          1     $ 0,9   \n",
       "1         Xavier Rafael Lagos Oliva     2017-01-03          2     $ 1,6   \n",
       "2    Irma del Carmen Gallardo Toledo    2017-01-04          1     $ 0,9   \n",
       "3         Honorio David Muñoz Molina    2017-02-10          4     $ 3,2   \n",
       "4         José Aquiles Aguayo Chávez    2017-01-03          6     $ 5,4   \n",
       "..                               ...           ...        ...       ...   \n",
       "95            Juan Alberto Lara Rios    2017-02-03          6     $ 7,2   \n",
       "96  Mario Enrique Gonzalez contreras    2017-01-03          1     $ 1,2   \n",
       "97  Juan Plinio Hermosilla Contreras    2017-01-03          2     $ 1,8   \n",
       "98        Xavier Rafael Lagos Oliva     2017-01-17          2     $ 1,6   \n",
       "99  Juan Plinio Hermosilla Contreras    2017-01-15          1     $ 0,8   \n",
       "\n",
       "    VENTA_COSTO CALIF_SERVICIO  \n",
       "0          0.78           Mala  \n",
       "1          1.40           Mala  \n",
       "2          0.78        Regular  \n",
       "3          2.80      Muy Buena  \n",
       "4          4.68      Muy Buena  \n",
       "..          ...            ...  \n",
       "95         6.00        Regular  \n",
       "96         1.00          Buena  \n",
       "97         1.56          Buena  \n",
       "98         1.40          Buena  \n",
       "99         0.70        Regular  \n",
       "\n",
       "[100 rows x 9 columns]"
      ]
     },
     "execution_count": 10,
     "metadata": {},
     "output_type": "execute_result"
    }
   ],
   "source": [
    "transacciones"
   ]
  },
  {
   "cell_type": "code",
   "execution_count": 12,
   "id": "bed71468",
   "metadata": {},
   "outputs": [
    {
     "data": {
      "text/plain": [
       "'Cerveza Pilsener light                '"
      ]
     },
     "execution_count": 12,
     "metadata": {},
     "output_type": "execute_result"
    }
   ],
   "source": [
    "transacciones['PRODUCTO'][0]"
   ]
  },
  {
   "cell_type": "code",
   "execution_count": 13,
   "id": "ddfc28c0",
   "metadata": {},
   "outputs": [
    {
     "data": {
      "text/plain": [
       "array(['Cerveza Pilsener light                ',\n",
       "       'Cerveza Pilsener                       ',\n",
       "       'Club verde                    ', 'Heineken                   '],\n",
       "      dtype=object)"
      ]
     },
     "execution_count": 13,
     "metadata": {},
     "output_type": "execute_result"
    }
   ],
   "source": [
    "transacciones['PRODUCTO'].unique()"
   ]
  },
  {
   "cell_type": "code",
   "execution_count": 14,
   "id": "6c2d7a49",
   "metadata": {},
   "outputs": [
    {
     "name": "stdout",
     "output_type": "stream",
     "text": [
      "Help on method_descriptor:\n",
      "\n",
      "strip(self, chars=None, /)\n",
      "    Return a copy of the string with leading and trailing whitespace removed.\n",
      "    \n",
      "    If chars is given and not None, remove characters in chars instead.\n",
      "\n"
     ]
    }
   ],
   "source": [
    "help(str.strip)"
   ]
  },
  {
   "cell_type": "code",
   "execution_count": 15,
   "id": "9436ed70",
   "metadata": {},
   "outputs": [
    {
     "data": {
      "text/plain": [
       "pandas.core.series.Series"
      ]
     },
     "execution_count": 15,
     "metadata": {},
     "output_type": "execute_result"
    }
   ],
   "source": [
    "transacciones['PRODUCTO'].__class__"
   ]
  },
  {
   "cell_type": "code",
   "execution_count": 17,
   "id": "a48d7394",
   "metadata": {},
   "outputs": [
    {
     "data": {
      "text/plain": [
       "pandas.core.strings.accessor.StringMethods"
      ]
     },
     "execution_count": 17,
     "metadata": {},
     "output_type": "execute_result"
    }
   ],
   "source": [
    "transacciones['PRODUCTO'].str.__class__"
   ]
  },
  {
   "cell_type": "code",
   "execution_count": 18,
   "id": "07c4576b",
   "metadata": {},
   "outputs": [
    {
     "data": {
      "text/plain": [
       "0     Cerveza Pilsener light\n",
       "1           Cerveza Pilsener\n",
       "2     Cerveza Pilsener light\n",
       "3           Cerveza Pilsener\n",
       "4     Cerveza Pilsener light\n",
       "               ...          \n",
       "95                  Heineken\n",
       "96                  Heineken\n",
       "97    Cerveza Pilsener light\n",
       "98          Cerveza Pilsener\n",
       "99          Cerveza Pilsener\n",
       "Name: PRODUCTO, Length: 100, dtype: object"
      ]
     },
     "execution_count": 18,
     "metadata": {},
     "output_type": "execute_result"
    }
   ],
   "source": [
    "transacciones['PRODUCTO'].str.strip()"
   ]
  },
  {
   "cell_type": "code",
   "execution_count": 19,
   "id": "5ce85c7c",
   "metadata": {},
   "outputs": [
    {
     "data": {
      "text/plain": [
       "array(['Cerveza Pilsener light', 'Cerveza Pilsener', 'Club verde',\n",
       "       'Heineken'], dtype=object)"
      ]
     },
     "execution_count": 19,
     "metadata": {},
     "output_type": "execute_result"
    }
   ],
   "source": [
    "transacciones['PRODUCTO'].str.strip().unique()"
   ]
  },
  {
   "cell_type": "code",
   "execution_count": 20,
   "id": "642e7da9",
   "metadata": {},
   "outputs": [],
   "source": [
    "transacciones['PRODUCTO'] = transacciones['PRODUCTO'].str.strip()"
   ]
  },
  {
   "cell_type": "markdown",
   "id": "b4d0bd59",
   "metadata": {},
   "source": [
    "### 3.b.2 Cambiar VENTA_USD a número [pd.to_numeric()]\n",
    "\n",
    "Podrían usar .str.strip(chars= '$ ')  \n",
    "Ademas usar replace para las comas a punto  \n",
    "y luego to_numeric"
   ]
  },
  {
   "cell_type": "code",
   "execution_count": 25,
   "id": "2335c260",
   "metadata": {},
   "outputs": [
    {
     "data": {
      "text/plain": [
       "0     0,9\n",
       "1     1,6\n",
       "2     0,9\n",
       "3     3,2\n",
       "4     5,4\n",
       "     ... \n",
       "95    7,2\n",
       "96    1,2\n",
       "97    1,8\n",
       "98    1,6\n",
       "99    0,8\n",
       "Name: VENTA_USD, Length: 100, dtype: object"
      ]
     },
     "execution_count": 25,
     "metadata": {},
     "output_type": "execute_result"
    }
   ],
   "source": [
    "transacciones['VENTA_USD'].str.strip('$ ')"
   ]
  },
  {
   "cell_type": "code",
   "execution_count": 26,
   "id": "dae20e77",
   "metadata": {},
   "outputs": [
    {
     "data": {
      "text/plain": [
       "'0,9'"
      ]
     },
     "execution_count": 26,
     "metadata": {},
     "output_type": "execute_result"
    }
   ],
   "source": [
    "transacciones['VENTA_USD'].str.strip('$ ')[0]"
   ]
  },
  {
   "cell_type": "code",
   "execution_count": 29,
   "id": "b59c6c64",
   "metadata": {},
   "outputs": [
    {
     "data": {
      "text/plain": [
       "0     0.9\n",
       "1     1.6\n",
       "2     0.9\n",
       "3     3.2\n",
       "4     5.4\n",
       "     ... \n",
       "95    7.2\n",
       "96    1.2\n",
       "97    1.8\n",
       "98    1.6\n",
       "99    0.8\n",
       "Name: VENTA_USD, Length: 100, dtype: object"
      ]
     },
     "execution_count": 29,
     "metadata": {},
     "output_type": "execute_result"
    }
   ],
   "source": [
    "transacciones['VENTA_USD'].str.strip('$ ').replace( ',', '.', regex= True )"
   ]
  },
  {
   "cell_type": "code",
   "execution_count": 30,
   "id": "1b2d7ff3",
   "metadata": {},
   "outputs": [
    {
     "data": {
      "text/plain": [
       "0     0.9\n",
       "1     1.6\n",
       "2     0.9\n",
       "3     3.2\n",
       "4     5.4\n",
       "     ... \n",
       "95    7.2\n",
       "96    1.2\n",
       "97    1.8\n",
       "98    1.6\n",
       "99    0.8\n",
       "Name: VENTA_USD, Length: 100, dtype: float64"
      ]
     },
     "execution_count": 30,
     "metadata": {},
     "output_type": "execute_result"
    }
   ],
   "source": [
    "pd.to_numeric( transacciones['VENTA_USD'].str.strip('$ ').replace( ',', '.', regex= True ) )"
   ]
  },
  {
   "cell_type": "code",
   "execution_count": 31,
   "id": "5f610f63",
   "metadata": {},
   "outputs": [],
   "source": [
    "transacciones['VENTA_USD']= pd.to_numeric( transacciones['VENTA_USD'].str.strip('$ ').replace( \n",
    "    ',', '.', regex= True ) )"
   ]
  },
  {
   "cell_type": "code",
   "execution_count": 32,
   "id": "88766682",
   "metadata": {},
   "outputs": [
    {
     "name": "stdout",
     "output_type": "stream",
     "text": [
      "<class 'pandas.core.frame.DataFrame'>\n",
      "RangeIndex: 100 entries, 0 to 99\n",
      "Data columns (total 9 columns):\n",
      " #   Column          Non-Null Count  Dtype         \n",
      "---  ------          --------------  -----         \n",
      " 0   PRODUCTO        100 non-null    object        \n",
      " 1   LOCAL           100 non-null    object        \n",
      " 2   COD_CLTE        100 non-null    int64         \n",
      " 3   CLIENTE         100 non-null    object        \n",
      " 4   FECHA_FACTURA   100 non-null    datetime64[ns]\n",
      " 5   VENTA_UND       100 non-null    int64         \n",
      " 6   VENTA_USD       100 non-null    float64       \n",
      " 7   VENTA_COSTO     100 non-null    float64       \n",
      " 8   CALIF_SERVICIO  100 non-null    object        \n",
      "dtypes: datetime64[ns](1), float64(2), int64(2), object(4)\n",
      "memory usage: 7.2+ KB\n"
     ]
    }
   ],
   "source": [
    "transacciones.info()"
   ]
  },
  {
   "cell_type": "code",
   "execution_count": null,
   "id": "9896b4b1",
   "metadata": {},
   "outputs": [],
   "source": []
  },
  {
   "cell_type": "markdown",
   "id": "2b8b7f11",
   "metadata": {},
   "source": [
    "### 3.b.3 Cambiar la variable CALIF_SERVICIO a ordinal [pd.Categorical()]\n",
    "\n",
    "Diapositiva 09_Manipul_basica.html#48"
   ]
  },
  {
   "cell_type": "code",
   "execution_count": null,
   "id": "9bf5ce00",
   "metadata": {},
   "outputs": [],
   "source": []
  },
  {
   "cell_type": "markdown",
   "id": "4e47d1de",
   "metadata": {},
   "source": [
    "### 3.c dólares totales y el costo total de la venta que se tiene por cada tipo de cerveza y local \n",
    "\n",
    "Del data de transacciones, muestre:\n",
    "Los dólares totales y el costo total de la venta que se tiene por cada tipo de\n",
    "cerveza y local [groupby + sum] o [groupby + agg o apply]"
   ]
  },
  {
   "cell_type": "code",
   "execution_count": 33,
   "id": "6f141135",
   "metadata": {},
   "outputs": [
    {
     "data": {
      "text/html": [
       "<div>\n",
       "<style scoped>\n",
       "    .dataframe tbody tr th:only-of-type {\n",
       "        vertical-align: middle;\n",
       "    }\n",
       "\n",
       "    .dataframe tbody tr th {\n",
       "        vertical-align: top;\n",
       "    }\n",
       "\n",
       "    .dataframe thead th {\n",
       "        text-align: right;\n",
       "    }\n",
       "</style>\n",
       "<table border=\"1\" class=\"dataframe\">\n",
       "  <thead>\n",
       "    <tr style=\"text-align: right;\">\n",
       "      <th></th>\n",
       "      <th></th>\n",
       "      <th>VENTA_USD</th>\n",
       "      <th>VENTA_COSTO</th>\n",
       "    </tr>\n",
       "    <tr>\n",
       "      <th>PRODUCTO</th>\n",
       "      <th>LOCAL</th>\n",
       "      <th></th>\n",
       "      <th></th>\n",
       "    </tr>\n",
       "  </thead>\n",
       "  <tbody>\n",
       "    <tr>\n",
       "      <th rowspan=\"2\" valign=\"top\">Cerveza Pilsener</th>\n",
       "      <th>Ceibos</th>\n",
       "      <td>31.2</td>\n",
       "      <td>27.30</td>\n",
       "    </tr>\n",
       "    <tr>\n",
       "      <th>Samborondón</th>\n",
       "      <td>40.0</td>\n",
       "      <td>35.00</td>\n",
       "    </tr>\n",
       "    <tr>\n",
       "      <th rowspan=\"2\" valign=\"top\">Cerveza Pilsener light</th>\n",
       "      <th>Ceibos</th>\n",
       "      <td>37.8</td>\n",
       "      <td>32.76</td>\n",
       "    </tr>\n",
       "    <tr>\n",
       "      <th>Samborondón</th>\n",
       "      <td>38.7</td>\n",
       "      <td>33.54</td>\n",
       "    </tr>\n",
       "    <tr>\n",
       "      <th rowspan=\"2\" valign=\"top\">Club verde</th>\n",
       "      <th>Ceibos</th>\n",
       "      <td>24.0</td>\n",
       "      <td>20.40</td>\n",
       "    </tr>\n",
       "    <tr>\n",
       "      <th>Samborondón</th>\n",
       "      <td>69.0</td>\n",
       "      <td>58.65</td>\n",
       "    </tr>\n",
       "    <tr>\n",
       "      <th rowspan=\"2\" valign=\"top\">Heineken</th>\n",
       "      <th>Ceibos</th>\n",
       "      <td>57.6</td>\n",
       "      <td>48.00</td>\n",
       "    </tr>\n",
       "    <tr>\n",
       "      <th>Samborondón</th>\n",
       "      <td>76.8</td>\n",
       "      <td>64.00</td>\n",
       "    </tr>\n",
       "  </tbody>\n",
       "</table>\n",
       "</div>"
      ],
      "text/plain": [
       "                                    VENTA_USD  VENTA_COSTO\n",
       "PRODUCTO               LOCAL                              \n",
       "Cerveza Pilsener       Ceibos            31.2        27.30\n",
       "                       Samborondón       40.0        35.00\n",
       "Cerveza Pilsener light Ceibos            37.8        32.76\n",
       "                       Samborondón       38.7        33.54\n",
       "Club verde             Ceibos            24.0        20.40\n",
       "                       Samborondón       69.0        58.65\n",
       "Heineken               Ceibos            57.6        48.00\n",
       "                       Samborondón       76.8        64.00"
      ]
     },
     "execution_count": 33,
     "metadata": {},
     "output_type": "execute_result"
    }
   ],
   "source": [
    "transacciones.groupby( ['PRODUCTO', 'LOCAL'] )[ ['VENTA_USD', 'VENTA_COSTO'] ].sum()\n",
    "## Ojo, una vez que se corrija la venta_usd arriba, ya debe aparecer en este output"
   ]
  },
  {
   "cell_type": "markdown",
   "id": "70160b45",
   "metadata": {},
   "source": [
    "### 3.d Estadísticas descriptivas para las columnas numéricas "
   ]
  },
  {
   "cell_type": "code",
   "execution_count": null,
   "id": "395544dc",
   "metadata": {},
   "outputs": [],
   "source": []
  },
  {
   "cell_type": "markdown",
   "id": "b0099819",
   "metadata": {},
   "source": [
    "### 3.e Venta (variable Venta USD) mensual total y la venta acumulada desde enero a la fecha\n",
    "\n",
    "Para cada producto, calcular la venta (variable Venta USD) mensual total y la\n",
    "venta acumulada desde enero a la fecha. [groupby + cumsum, Pista 2:\n",
    "seguramente toque crear una variable mes antes de poder hacer la sumatoria ]\n"
   ]
  },
  {
   "cell_type": "code",
   "execution_count": 34,
   "id": "c7293a5f",
   "metadata": {},
   "outputs": [
    {
     "data": {
      "text/html": [
       "<div>\n",
       "<style scoped>\n",
       "    .dataframe tbody tr th:only-of-type {\n",
       "        vertical-align: middle;\n",
       "    }\n",
       "\n",
       "    .dataframe tbody tr th {\n",
       "        vertical-align: top;\n",
       "    }\n",
       "\n",
       "    .dataframe thead th {\n",
       "        text-align: right;\n",
       "    }\n",
       "</style>\n",
       "<table border=\"1\" class=\"dataframe\">\n",
       "  <thead>\n",
       "    <tr style=\"text-align: right;\">\n",
       "      <th></th>\n",
       "      <th>PRODUCTO</th>\n",
       "      <th>LOCAL</th>\n",
       "      <th>COD_CLTE</th>\n",
       "      <th>CLIENTE</th>\n",
       "      <th>FECHA_FACTURA</th>\n",
       "      <th>VENTA_UND</th>\n",
       "      <th>VENTA_USD</th>\n",
       "      <th>VENTA_COSTO</th>\n",
       "      <th>CALIF_SERVICIO</th>\n",
       "    </tr>\n",
       "  </thead>\n",
       "  <tbody>\n",
       "    <tr>\n",
       "      <th>0</th>\n",
       "      <td>Cerveza Pilsener light</td>\n",
       "      <td>Samborondón</td>\n",
       "      <td>10027</td>\n",
       "      <td>Marilyn Marlene Arratia Rivas</td>\n",
       "      <td>2017-01-10</td>\n",
       "      <td>1</td>\n",
       "      <td>0.9</td>\n",
       "      <td>0.78</td>\n",
       "      <td>Mala</td>\n",
       "    </tr>\n",
       "    <tr>\n",
       "      <th>1</th>\n",
       "      <td>Cerveza Pilsener</td>\n",
       "      <td>Samborondón</td>\n",
       "      <td>10018</td>\n",
       "      <td>Xavier Rafael Lagos Oliva</td>\n",
       "      <td>2017-01-03</td>\n",
       "      <td>2</td>\n",
       "      <td>1.6</td>\n",
       "      <td>1.40</td>\n",
       "      <td>Mala</td>\n",
       "    </tr>\n",
       "    <tr>\n",
       "      <th>2</th>\n",
       "      <td>Cerveza Pilsener light</td>\n",
       "      <td>Ceibos</td>\n",
       "      <td>10014</td>\n",
       "      <td>Irma del Carmen Gallardo Toledo</td>\n",
       "      <td>2017-01-04</td>\n",
       "      <td>1</td>\n",
       "      <td>0.9</td>\n",
       "      <td>0.78</td>\n",
       "      <td>Regular</td>\n",
       "    </tr>\n",
       "    <tr>\n",
       "      <th>3</th>\n",
       "      <td>Cerveza Pilsener</td>\n",
       "      <td>Ceibos</td>\n",
       "      <td>10007</td>\n",
       "      <td>Honorio David Muñoz Molina</td>\n",
       "      <td>2017-02-10</td>\n",
       "      <td>4</td>\n",
       "      <td>3.2</td>\n",
       "      <td>2.80</td>\n",
       "      <td>Muy Buena</td>\n",
       "    </tr>\n",
       "    <tr>\n",
       "      <th>4</th>\n",
       "      <td>Cerveza Pilsener light</td>\n",
       "      <td>Samborondón</td>\n",
       "      <td>10016</td>\n",
       "      <td>José Aquiles Aguayo Chávez</td>\n",
       "      <td>2017-01-03</td>\n",
       "      <td>6</td>\n",
       "      <td>5.4</td>\n",
       "      <td>4.68</td>\n",
       "      <td>Muy Buena</td>\n",
       "    </tr>\n",
       "    <tr>\n",
       "      <th>...</th>\n",
       "      <td>...</td>\n",
       "      <td>...</td>\n",
       "      <td>...</td>\n",
       "      <td>...</td>\n",
       "      <td>...</td>\n",
       "      <td>...</td>\n",
       "      <td>...</td>\n",
       "      <td>...</td>\n",
       "      <td>...</td>\n",
       "    </tr>\n",
       "    <tr>\n",
       "      <th>95</th>\n",
       "      <td>Heineken</td>\n",
       "      <td>Samborondón</td>\n",
       "      <td>10029</td>\n",
       "      <td>Juan Alberto Lara Rios</td>\n",
       "      <td>2017-02-03</td>\n",
       "      <td>6</td>\n",
       "      <td>7.2</td>\n",
       "      <td>6.00</td>\n",
       "      <td>Regular</td>\n",
       "    </tr>\n",
       "    <tr>\n",
       "      <th>96</th>\n",
       "      <td>Heineken</td>\n",
       "      <td>Ceibos</td>\n",
       "      <td>10005</td>\n",
       "      <td>Mario Enrique Gonzalez contreras</td>\n",
       "      <td>2017-01-03</td>\n",
       "      <td>1</td>\n",
       "      <td>1.2</td>\n",
       "      <td>1.00</td>\n",
       "      <td>Buena</td>\n",
       "    </tr>\n",
       "    <tr>\n",
       "      <th>97</th>\n",
       "      <td>Cerveza Pilsener light</td>\n",
       "      <td>Ceibos</td>\n",
       "      <td>10009</td>\n",
       "      <td>Juan Plinio Hermosilla Contreras</td>\n",
       "      <td>2017-01-03</td>\n",
       "      <td>2</td>\n",
       "      <td>1.8</td>\n",
       "      <td>1.56</td>\n",
       "      <td>Buena</td>\n",
       "    </tr>\n",
       "    <tr>\n",
       "      <th>98</th>\n",
       "      <td>Cerveza Pilsener</td>\n",
       "      <td>Samborondón</td>\n",
       "      <td>10018</td>\n",
       "      <td>Xavier Rafael Lagos Oliva</td>\n",
       "      <td>2017-01-17</td>\n",
       "      <td>2</td>\n",
       "      <td>1.6</td>\n",
       "      <td>1.40</td>\n",
       "      <td>Buena</td>\n",
       "    </tr>\n",
       "    <tr>\n",
       "      <th>99</th>\n",
       "      <td>Cerveza Pilsener</td>\n",
       "      <td>Ceibos</td>\n",
       "      <td>10009</td>\n",
       "      <td>Juan Plinio Hermosilla Contreras</td>\n",
       "      <td>2017-01-15</td>\n",
       "      <td>1</td>\n",
       "      <td>0.8</td>\n",
       "      <td>0.70</td>\n",
       "      <td>Regular</td>\n",
       "    </tr>\n",
       "  </tbody>\n",
       "</table>\n",
       "<p>100 rows × 9 columns</p>\n",
       "</div>"
      ],
      "text/plain": [
       "                  PRODUCTO        LOCAL  COD_CLTE  \\\n",
       "0   Cerveza Pilsener light  Samborondón     10027   \n",
       "1         Cerveza Pilsener  Samborondón     10018   \n",
       "2   Cerveza Pilsener light       Ceibos     10014   \n",
       "3         Cerveza Pilsener       Ceibos     10007   \n",
       "4   Cerveza Pilsener light  Samborondón     10016   \n",
       "..                     ...          ...       ...   \n",
       "95                Heineken  Samborondón     10029   \n",
       "96                Heineken       Ceibos     10005   \n",
       "97  Cerveza Pilsener light       Ceibos     10009   \n",
       "98        Cerveza Pilsener  Samborondón     10018   \n",
       "99        Cerveza Pilsener       Ceibos     10009   \n",
       "\n",
       "                             CLIENTE FECHA_FACTURA  VENTA_UND  VENTA_USD  \\\n",
       "0      Marilyn Marlene Arratia Rivas    2017-01-10          1        0.9   \n",
       "1         Xavier Rafael Lagos Oliva     2017-01-03          2        1.6   \n",
       "2    Irma del Carmen Gallardo Toledo    2017-01-04          1        0.9   \n",
       "3         Honorio David Muñoz Molina    2017-02-10          4        3.2   \n",
       "4         José Aquiles Aguayo Chávez    2017-01-03          6        5.4   \n",
       "..                               ...           ...        ...        ...   \n",
       "95            Juan Alberto Lara Rios    2017-02-03          6        7.2   \n",
       "96  Mario Enrique Gonzalez contreras    2017-01-03          1        1.2   \n",
       "97  Juan Plinio Hermosilla Contreras    2017-01-03          2        1.8   \n",
       "98        Xavier Rafael Lagos Oliva     2017-01-17          2        1.6   \n",
       "99  Juan Plinio Hermosilla Contreras    2017-01-15          1        0.8   \n",
       "\n",
       "    VENTA_COSTO CALIF_SERVICIO  \n",
       "0          0.78           Mala  \n",
       "1          1.40           Mala  \n",
       "2          0.78        Regular  \n",
       "3          2.80      Muy Buena  \n",
       "4          4.68      Muy Buena  \n",
       "..          ...            ...  \n",
       "95         6.00        Regular  \n",
       "96         1.00          Buena  \n",
       "97         1.56          Buena  \n",
       "98         1.40          Buena  \n",
       "99         0.70        Regular  \n",
       "\n",
       "[100 rows x 9 columns]"
      ]
     },
     "execution_count": 34,
     "metadata": {},
     "output_type": "execute_result"
    }
   ],
   "source": [
    "transacciones"
   ]
  },
  {
   "cell_type": "code",
   "execution_count": 37,
   "id": "71b014fa",
   "metadata": {},
   "outputs": [
    {
     "data": {
      "text/plain": [
       "0     1\n",
       "1     1\n",
       "2     1\n",
       "3     2\n",
       "4     1\n",
       "     ..\n",
       "95    2\n",
       "96    1\n",
       "97    1\n",
       "98    1\n",
       "99    1\n",
       "Name: FECHA_FACTURA, Length: 100, dtype: int64"
      ]
     },
     "execution_count": 37,
     "metadata": {},
     "output_type": "execute_result"
    }
   ],
   "source": [
    "# transacciones['MES']= \n",
    "transacciones['FECHA_FACTURA'].dt.month"
   ]
  },
  {
   "cell_type": "code",
   "execution_count": 38,
   "id": "de68ecc3",
   "metadata": {},
   "outputs": [],
   "source": [
    "transacciones['MES']= transacciones['FECHA_FACTURA'].dt.month"
   ]
  },
  {
   "cell_type": "code",
   "execution_count": 39,
   "id": "a4bc80de",
   "metadata": {},
   "outputs": [
    {
     "data": {
      "text/html": [
       "<div>\n",
       "<style scoped>\n",
       "    .dataframe tbody tr th:only-of-type {\n",
       "        vertical-align: middle;\n",
       "    }\n",
       "\n",
       "    .dataframe tbody tr th {\n",
       "        vertical-align: top;\n",
       "    }\n",
       "\n",
       "    .dataframe thead th {\n",
       "        text-align: right;\n",
       "    }\n",
       "</style>\n",
       "<table border=\"1\" class=\"dataframe\">\n",
       "  <thead>\n",
       "    <tr style=\"text-align: right;\">\n",
       "      <th></th>\n",
       "      <th>PRODUCTO</th>\n",
       "      <th>LOCAL</th>\n",
       "      <th>COD_CLTE</th>\n",
       "      <th>CLIENTE</th>\n",
       "      <th>FECHA_FACTURA</th>\n",
       "      <th>VENTA_UND</th>\n",
       "      <th>VENTA_USD</th>\n",
       "      <th>VENTA_COSTO</th>\n",
       "      <th>CALIF_SERVICIO</th>\n",
       "      <th>MES</th>\n",
       "    </tr>\n",
       "  </thead>\n",
       "  <tbody>\n",
       "    <tr>\n",
       "      <th>0</th>\n",
       "      <td>Cerveza Pilsener light</td>\n",
       "      <td>Samborondón</td>\n",
       "      <td>10027</td>\n",
       "      <td>Marilyn Marlene Arratia Rivas</td>\n",
       "      <td>2017-01-10</td>\n",
       "      <td>1</td>\n",
       "      <td>0.9</td>\n",
       "      <td>0.78</td>\n",
       "      <td>Mala</td>\n",
       "      <td>1</td>\n",
       "    </tr>\n",
       "    <tr>\n",
       "      <th>1</th>\n",
       "      <td>Cerveza Pilsener</td>\n",
       "      <td>Samborondón</td>\n",
       "      <td>10018</td>\n",
       "      <td>Xavier Rafael Lagos Oliva</td>\n",
       "      <td>2017-01-03</td>\n",
       "      <td>2</td>\n",
       "      <td>1.6</td>\n",
       "      <td>1.40</td>\n",
       "      <td>Mala</td>\n",
       "      <td>1</td>\n",
       "    </tr>\n",
       "    <tr>\n",
       "      <th>2</th>\n",
       "      <td>Cerveza Pilsener light</td>\n",
       "      <td>Ceibos</td>\n",
       "      <td>10014</td>\n",
       "      <td>Irma del Carmen Gallardo Toledo</td>\n",
       "      <td>2017-01-04</td>\n",
       "      <td>1</td>\n",
       "      <td>0.9</td>\n",
       "      <td>0.78</td>\n",
       "      <td>Regular</td>\n",
       "      <td>1</td>\n",
       "    </tr>\n",
       "    <tr>\n",
       "      <th>3</th>\n",
       "      <td>Cerveza Pilsener</td>\n",
       "      <td>Ceibos</td>\n",
       "      <td>10007</td>\n",
       "      <td>Honorio David Muñoz Molina</td>\n",
       "      <td>2017-02-10</td>\n",
       "      <td>4</td>\n",
       "      <td>3.2</td>\n",
       "      <td>2.80</td>\n",
       "      <td>Muy Buena</td>\n",
       "      <td>2</td>\n",
       "    </tr>\n",
       "    <tr>\n",
       "      <th>4</th>\n",
       "      <td>Cerveza Pilsener light</td>\n",
       "      <td>Samborondón</td>\n",
       "      <td>10016</td>\n",
       "      <td>José Aquiles Aguayo Chávez</td>\n",
       "      <td>2017-01-03</td>\n",
       "      <td>6</td>\n",
       "      <td>5.4</td>\n",
       "      <td>4.68</td>\n",
       "      <td>Muy Buena</td>\n",
       "      <td>1</td>\n",
       "    </tr>\n",
       "    <tr>\n",
       "      <th>...</th>\n",
       "      <td>...</td>\n",
       "      <td>...</td>\n",
       "      <td>...</td>\n",
       "      <td>...</td>\n",
       "      <td>...</td>\n",
       "      <td>...</td>\n",
       "      <td>...</td>\n",
       "      <td>...</td>\n",
       "      <td>...</td>\n",
       "      <td>...</td>\n",
       "    </tr>\n",
       "    <tr>\n",
       "      <th>95</th>\n",
       "      <td>Heineken</td>\n",
       "      <td>Samborondón</td>\n",
       "      <td>10029</td>\n",
       "      <td>Juan Alberto Lara Rios</td>\n",
       "      <td>2017-02-03</td>\n",
       "      <td>6</td>\n",
       "      <td>7.2</td>\n",
       "      <td>6.00</td>\n",
       "      <td>Regular</td>\n",
       "      <td>2</td>\n",
       "    </tr>\n",
       "    <tr>\n",
       "      <th>96</th>\n",
       "      <td>Heineken</td>\n",
       "      <td>Ceibos</td>\n",
       "      <td>10005</td>\n",
       "      <td>Mario Enrique Gonzalez contreras</td>\n",
       "      <td>2017-01-03</td>\n",
       "      <td>1</td>\n",
       "      <td>1.2</td>\n",
       "      <td>1.00</td>\n",
       "      <td>Buena</td>\n",
       "      <td>1</td>\n",
       "    </tr>\n",
       "    <tr>\n",
       "      <th>97</th>\n",
       "      <td>Cerveza Pilsener light</td>\n",
       "      <td>Ceibos</td>\n",
       "      <td>10009</td>\n",
       "      <td>Juan Plinio Hermosilla Contreras</td>\n",
       "      <td>2017-01-03</td>\n",
       "      <td>2</td>\n",
       "      <td>1.8</td>\n",
       "      <td>1.56</td>\n",
       "      <td>Buena</td>\n",
       "      <td>1</td>\n",
       "    </tr>\n",
       "    <tr>\n",
       "      <th>98</th>\n",
       "      <td>Cerveza Pilsener</td>\n",
       "      <td>Samborondón</td>\n",
       "      <td>10018</td>\n",
       "      <td>Xavier Rafael Lagos Oliva</td>\n",
       "      <td>2017-01-17</td>\n",
       "      <td>2</td>\n",
       "      <td>1.6</td>\n",
       "      <td>1.40</td>\n",
       "      <td>Buena</td>\n",
       "      <td>1</td>\n",
       "    </tr>\n",
       "    <tr>\n",
       "      <th>99</th>\n",
       "      <td>Cerveza Pilsener</td>\n",
       "      <td>Ceibos</td>\n",
       "      <td>10009</td>\n",
       "      <td>Juan Plinio Hermosilla Contreras</td>\n",
       "      <td>2017-01-15</td>\n",
       "      <td>1</td>\n",
       "      <td>0.8</td>\n",
       "      <td>0.70</td>\n",
       "      <td>Regular</td>\n",
       "      <td>1</td>\n",
       "    </tr>\n",
       "  </tbody>\n",
       "</table>\n",
       "<p>100 rows × 10 columns</p>\n",
       "</div>"
      ],
      "text/plain": [
       "                  PRODUCTO        LOCAL  COD_CLTE  \\\n",
       "0   Cerveza Pilsener light  Samborondón     10027   \n",
       "1         Cerveza Pilsener  Samborondón     10018   \n",
       "2   Cerveza Pilsener light       Ceibos     10014   \n",
       "3         Cerveza Pilsener       Ceibos     10007   \n",
       "4   Cerveza Pilsener light  Samborondón     10016   \n",
       "..                     ...          ...       ...   \n",
       "95                Heineken  Samborondón     10029   \n",
       "96                Heineken       Ceibos     10005   \n",
       "97  Cerveza Pilsener light       Ceibos     10009   \n",
       "98        Cerveza Pilsener  Samborondón     10018   \n",
       "99        Cerveza Pilsener       Ceibos     10009   \n",
       "\n",
       "                             CLIENTE FECHA_FACTURA  VENTA_UND  VENTA_USD  \\\n",
       "0      Marilyn Marlene Arratia Rivas    2017-01-10          1        0.9   \n",
       "1         Xavier Rafael Lagos Oliva     2017-01-03          2        1.6   \n",
       "2    Irma del Carmen Gallardo Toledo    2017-01-04          1        0.9   \n",
       "3         Honorio David Muñoz Molina    2017-02-10          4        3.2   \n",
       "4         José Aquiles Aguayo Chávez    2017-01-03          6        5.4   \n",
       "..                               ...           ...        ...        ...   \n",
       "95            Juan Alberto Lara Rios    2017-02-03          6        7.2   \n",
       "96  Mario Enrique Gonzalez contreras    2017-01-03          1        1.2   \n",
       "97  Juan Plinio Hermosilla Contreras    2017-01-03          2        1.8   \n",
       "98        Xavier Rafael Lagos Oliva     2017-01-17          2        1.6   \n",
       "99  Juan Plinio Hermosilla Contreras    2017-01-15          1        0.8   \n",
       "\n",
       "    VENTA_COSTO CALIF_SERVICIO  MES  \n",
       "0          0.78           Mala    1  \n",
       "1          1.40           Mala    1  \n",
       "2          0.78        Regular    1  \n",
       "3          2.80      Muy Buena    2  \n",
       "4          4.68      Muy Buena    1  \n",
       "..          ...            ...  ...  \n",
       "95         6.00        Regular    2  \n",
       "96         1.00          Buena    1  \n",
       "97         1.56          Buena    1  \n",
       "98         1.40          Buena    1  \n",
       "99         0.70        Regular    1  \n",
       "\n",
       "[100 rows x 10 columns]"
      ]
     },
     "execution_count": 39,
     "metadata": {},
     "output_type": "execute_result"
    }
   ],
   "source": [
    "transacciones"
   ]
  },
  {
   "cell_type": "code",
   "execution_count": 43,
   "id": "d9a4938f",
   "metadata": {},
   "outputs": [
    {
     "data": {
      "text/html": [
       "<div>\n",
       "<style scoped>\n",
       "    .dataframe tbody tr th:only-of-type {\n",
       "        vertical-align: middle;\n",
       "    }\n",
       "\n",
       "    .dataframe tbody tr th {\n",
       "        vertical-align: top;\n",
       "    }\n",
       "\n",
       "    .dataframe thead th {\n",
       "        text-align: right;\n",
       "    }\n",
       "</style>\n",
       "<table border=\"1\" class=\"dataframe\">\n",
       "  <thead>\n",
       "    <tr style=\"text-align: right;\">\n",
       "      <th></th>\n",
       "      <th></th>\n",
       "      <th>VENTA_USD</th>\n",
       "    </tr>\n",
       "    <tr>\n",
       "      <th>PRODUCTO</th>\n",
       "      <th>MES</th>\n",
       "      <th></th>\n",
       "    </tr>\n",
       "  </thead>\n",
       "  <tbody>\n",
       "    <tr>\n",
       "      <th rowspan=\"2\" valign=\"top\">Cerveza Pilsener</th>\n",
       "      <th>1</th>\n",
       "      <td>47.2</td>\n",
       "    </tr>\n",
       "    <tr>\n",
       "      <th>2</th>\n",
       "      <td>24.0</td>\n",
       "    </tr>\n",
       "    <tr>\n",
       "      <th rowspan=\"2\" valign=\"top\">Cerveza Pilsener light</th>\n",
       "      <th>1</th>\n",
       "      <td>51.3</td>\n",
       "    </tr>\n",
       "    <tr>\n",
       "      <th>2</th>\n",
       "      <td>25.2</td>\n",
       "    </tr>\n",
       "    <tr>\n",
       "      <th rowspan=\"2\" valign=\"top\">Club verde</th>\n",
       "      <th>1</th>\n",
       "      <td>64.0</td>\n",
       "    </tr>\n",
       "    <tr>\n",
       "      <th>2</th>\n",
       "      <td>29.0</td>\n",
       "    </tr>\n",
       "    <tr>\n",
       "      <th rowspan=\"2\" valign=\"top\">Heineken</th>\n",
       "      <th>1</th>\n",
       "      <td>85.2</td>\n",
       "    </tr>\n",
       "    <tr>\n",
       "      <th>2</th>\n",
       "      <td>49.2</td>\n",
       "    </tr>\n",
       "  </tbody>\n",
       "</table>\n",
       "</div>"
      ],
      "text/plain": [
       "                            VENTA_USD\n",
       "PRODUCTO               MES           \n",
       "Cerveza Pilsener       1         47.2\n",
       "                       2         24.0\n",
       "Cerveza Pilsener light 1         51.3\n",
       "                       2         25.2\n",
       "Club verde             1         64.0\n",
       "                       2         29.0\n",
       "Heineken               1         85.2\n",
       "                       2         49.2"
      ]
     },
     "execution_count": 43,
     "metadata": {},
     "output_type": "execute_result"
    }
   ],
   "source": [
    "transacciones.groupby( ['PRODUCTO', 'MES'] )[ ['VENTA_USD'] ].sum()"
   ]
  },
  {
   "cell_type": "code",
   "execution_count": 44,
   "id": "7247bb0b",
   "metadata": {},
   "outputs": [
    {
     "data": {
      "text/html": [
       "<div>\n",
       "<style scoped>\n",
       "    .dataframe tbody tr th:only-of-type {\n",
       "        vertical-align: middle;\n",
       "    }\n",
       "\n",
       "    .dataframe tbody tr th {\n",
       "        vertical-align: top;\n",
       "    }\n",
       "\n",
       "    .dataframe thead th {\n",
       "        text-align: right;\n",
       "    }\n",
       "</style>\n",
       "<table border=\"1\" class=\"dataframe\">\n",
       "  <thead>\n",
       "    <tr style=\"text-align: right;\">\n",
       "      <th></th>\n",
       "      <th></th>\n",
       "      <th>VENTA_USD</th>\n",
       "    </tr>\n",
       "    <tr>\n",
       "      <th>PRODUCTO</th>\n",
       "      <th>MES</th>\n",
       "      <th></th>\n",
       "    </tr>\n",
       "  </thead>\n",
       "  <tbody>\n",
       "    <tr>\n",
       "      <th rowspan=\"2\" valign=\"top\">Cerveza Pilsener</th>\n",
       "      <th>1</th>\n",
       "      <td>47.2</td>\n",
       "    </tr>\n",
       "    <tr>\n",
       "      <th>2</th>\n",
       "      <td>71.2</td>\n",
       "    </tr>\n",
       "    <tr>\n",
       "      <th rowspan=\"2\" valign=\"top\">Cerveza Pilsener light</th>\n",
       "      <th>1</th>\n",
       "      <td>122.5</td>\n",
       "    </tr>\n",
       "    <tr>\n",
       "      <th>2</th>\n",
       "      <td>147.7</td>\n",
       "    </tr>\n",
       "    <tr>\n",
       "      <th rowspan=\"2\" valign=\"top\">Club verde</th>\n",
       "      <th>1</th>\n",
       "      <td>211.7</td>\n",
       "    </tr>\n",
       "    <tr>\n",
       "      <th>2</th>\n",
       "      <td>240.7</td>\n",
       "    </tr>\n",
       "    <tr>\n",
       "      <th rowspan=\"2\" valign=\"top\">Heineken</th>\n",
       "      <th>1</th>\n",
       "      <td>325.9</td>\n",
       "    </tr>\n",
       "    <tr>\n",
       "      <th>2</th>\n",
       "      <td>375.1</td>\n",
       "    </tr>\n",
       "  </tbody>\n",
       "</table>\n",
       "</div>"
      ],
      "text/plain": [
       "                            VENTA_USD\n",
       "PRODUCTO               MES           \n",
       "Cerveza Pilsener       1         47.2\n",
       "                       2         71.2\n",
       "Cerveza Pilsener light 1        122.5\n",
       "                       2        147.7\n",
       "Club verde             1        211.7\n",
       "                       2        240.7\n",
       "Heineken               1        325.9\n",
       "                       2        375.1"
      ]
     },
     "execution_count": 44,
     "metadata": {},
     "output_type": "execute_result"
    }
   ],
   "source": [
    "# Esto es un error\n",
    "transacciones.groupby( ['PRODUCTO', 'MES'] )[ ['VENTA_USD'] ].sum().cumsum()"
   ]
  },
  {
   "cell_type": "code",
   "execution_count": 45,
   "id": "d8444555",
   "metadata": {},
   "outputs": [
    {
     "data": {
      "text/html": [
       "<div>\n",
       "<style scoped>\n",
       "    .dataframe tbody tr th:only-of-type {\n",
       "        vertical-align: middle;\n",
       "    }\n",
       "\n",
       "    .dataframe tbody tr th {\n",
       "        vertical-align: top;\n",
       "    }\n",
       "\n",
       "    .dataframe thead th {\n",
       "        text-align: right;\n",
       "    }\n",
       "</style>\n",
       "<table border=\"1\" class=\"dataframe\">\n",
       "  <thead>\n",
       "    <tr style=\"text-align: right;\">\n",
       "      <th></th>\n",
       "      <th></th>\n",
       "      <th>VENTA_USD</th>\n",
       "    </tr>\n",
       "    <tr>\n",
       "      <th>PRODUCTO</th>\n",
       "      <th>MES</th>\n",
       "      <th></th>\n",
       "    </tr>\n",
       "  </thead>\n",
       "  <tbody>\n",
       "    <tr>\n",
       "      <th rowspan=\"2\" valign=\"top\">Cerveza Pilsener</th>\n",
       "      <th>1</th>\n",
       "      <td>47.2</td>\n",
       "    </tr>\n",
       "    <tr>\n",
       "      <th>2</th>\n",
       "      <td>24.0</td>\n",
       "    </tr>\n",
       "    <tr>\n",
       "      <th rowspan=\"2\" valign=\"top\">Cerveza Pilsener light</th>\n",
       "      <th>1</th>\n",
       "      <td>51.3</td>\n",
       "    </tr>\n",
       "    <tr>\n",
       "      <th>2</th>\n",
       "      <td>25.2</td>\n",
       "    </tr>\n",
       "    <tr>\n",
       "      <th rowspan=\"2\" valign=\"top\">Club verde</th>\n",
       "      <th>1</th>\n",
       "      <td>64.0</td>\n",
       "    </tr>\n",
       "    <tr>\n",
       "      <th>2</th>\n",
       "      <td>29.0</td>\n",
       "    </tr>\n",
       "    <tr>\n",
       "      <th rowspan=\"2\" valign=\"top\">Heineken</th>\n",
       "      <th>1</th>\n",
       "      <td>85.2</td>\n",
       "    </tr>\n",
       "    <tr>\n",
       "      <th>2</th>\n",
       "      <td>49.2</td>\n",
       "    </tr>\n",
       "  </tbody>\n",
       "</table>\n",
       "</div>"
      ],
      "text/plain": [
       "                            VENTA_USD\n",
       "PRODUCTO               MES           \n",
       "Cerveza Pilsener       1         47.2\n",
       "                       2         24.0\n",
       "Cerveza Pilsener light 1         51.3\n",
       "                       2         25.2\n",
       "Club verde             1         64.0\n",
       "                       2         29.0\n",
       "Heineken               1         85.2\n",
       "                       2         49.2"
      ]
     },
     "execution_count": 45,
     "metadata": {},
     "output_type": "execute_result"
    }
   ],
   "source": [
    "res3e = transacciones.groupby( ['PRODUCTO', 'MES'] )[ ['VENTA_USD'] ].sum()\n",
    "res3e"
   ]
  },
  {
   "cell_type": "code",
   "execution_count": 47,
   "id": "68951adb",
   "metadata": {},
   "outputs": [
    {
     "data": {
      "text/plain": [
       "PRODUCTO                MES\n",
       "Cerveza Pilsener        1       47.2\n",
       "                        2       71.2\n",
       "Cerveza Pilsener light  1       51.3\n",
       "                        2       76.5\n",
       "Club verde              1       64.0\n",
       "                        2       93.0\n",
       "Heineken                1       85.2\n",
       "                        2      134.4\n",
       "Name: VENTA_USD, dtype: float64"
      ]
     },
     "execution_count": 47,
     "metadata": {},
     "output_type": "execute_result"
    }
   ],
   "source": [
    "res3e[ 'VENTA_USD' ].groupby('PRODUCTO').cumsum()"
   ]
  },
  {
   "cell_type": "code",
   "execution_count": 49,
   "id": "03a733d9",
   "metadata": {},
   "outputs": [
    {
     "data": {
      "text/html": [
       "<div>\n",
       "<style scoped>\n",
       "    .dataframe tbody tr th:only-of-type {\n",
       "        vertical-align: middle;\n",
       "    }\n",
       "\n",
       "    .dataframe tbody tr th {\n",
       "        vertical-align: top;\n",
       "    }\n",
       "\n",
       "    .dataframe thead th {\n",
       "        text-align: right;\n",
       "    }\n",
       "</style>\n",
       "<table border=\"1\" class=\"dataframe\">\n",
       "  <thead>\n",
       "    <tr style=\"text-align: right;\">\n",
       "      <th></th>\n",
       "      <th></th>\n",
       "      <th>VENTA_USD</th>\n",
       "      <th>VENTA_ACUM</th>\n",
       "    </tr>\n",
       "    <tr>\n",
       "      <th>PRODUCTO</th>\n",
       "      <th>MES</th>\n",
       "      <th></th>\n",
       "      <th></th>\n",
       "    </tr>\n",
       "  </thead>\n",
       "  <tbody>\n",
       "    <tr>\n",
       "      <th rowspan=\"2\" valign=\"top\">Cerveza Pilsener</th>\n",
       "      <th>1</th>\n",
       "      <td>47.2</td>\n",
       "      <td>47.2</td>\n",
       "    </tr>\n",
       "    <tr>\n",
       "      <th>2</th>\n",
       "      <td>24.0</td>\n",
       "      <td>71.2</td>\n",
       "    </tr>\n",
       "    <tr>\n",
       "      <th rowspan=\"2\" valign=\"top\">Cerveza Pilsener light</th>\n",
       "      <th>1</th>\n",
       "      <td>51.3</td>\n",
       "      <td>51.3</td>\n",
       "    </tr>\n",
       "    <tr>\n",
       "      <th>2</th>\n",
       "      <td>25.2</td>\n",
       "      <td>76.5</td>\n",
       "    </tr>\n",
       "    <tr>\n",
       "      <th rowspan=\"2\" valign=\"top\">Club verde</th>\n",
       "      <th>1</th>\n",
       "      <td>64.0</td>\n",
       "      <td>64.0</td>\n",
       "    </tr>\n",
       "    <tr>\n",
       "      <th>2</th>\n",
       "      <td>29.0</td>\n",
       "      <td>93.0</td>\n",
       "    </tr>\n",
       "    <tr>\n",
       "      <th rowspan=\"2\" valign=\"top\">Heineken</th>\n",
       "      <th>1</th>\n",
       "      <td>85.2</td>\n",
       "      <td>85.2</td>\n",
       "    </tr>\n",
       "    <tr>\n",
       "      <th>2</th>\n",
       "      <td>49.2</td>\n",
       "      <td>134.4</td>\n",
       "    </tr>\n",
       "  </tbody>\n",
       "</table>\n",
       "</div>"
      ],
      "text/plain": [
       "                            VENTA_USD  VENTA_ACUM\n",
       "PRODUCTO               MES                       \n",
       "Cerveza Pilsener       1         47.2        47.2\n",
       "                       2         24.0        71.2\n",
       "Cerveza Pilsener light 1         51.3        51.3\n",
       "                       2         25.2        76.5\n",
       "Club verde             1         64.0        64.0\n",
       "                       2         29.0        93.0\n",
       "Heineken               1         85.2        85.2\n",
       "                       2         49.2       134.4"
      ]
     },
     "execution_count": 49,
     "metadata": {},
     "output_type": "execute_result"
    }
   ],
   "source": [
    "res3e[ 'VENTA_ACUM' ] = res3e[ 'VENTA_USD' ].groupby('PRODUCTO').cumsum()\n",
    "res3e"
   ]
  },
  {
   "cell_type": "code",
   "execution_count": null,
   "id": "bb5ab67d",
   "metadata": {},
   "outputs": [],
   "source": []
  }
 ],
 "metadata": {
  "kernelspec": {
   "display_name": "Python 3 (ipykernel)",
   "language": "python",
   "name": "python3"
  },
  "language_info": {
   "codemirror_mode": {
    "name": "ipython",
    "version": 3
   },
   "file_extension": ".py",
   "mimetype": "text/x-python",
   "name": "python",
   "nbconvert_exporter": "python",
   "pygments_lexer": "ipython3",
   "version": "3.9.7"
  }
 },
 "nbformat": 4,
 "nbformat_minor": 5
}
